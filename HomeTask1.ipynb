{
  "nbformat": 4,
  "nbformat_minor": 0,
  "metadata": {
    "colab": {
      "provenance": [],
      "authorship_tag": "ABX9TyMBzxI0o+wMIUEiIuEN8Mui",
      "include_colab_link": true
    },
    "kernelspec": {
      "name": "python3",
      "display_name": "Python 3"
    },
    "language_info": {
      "name": "python"
    }
  },
  "cells": [
    {
      "cell_type": "markdown",
      "metadata": {
        "id": "view-in-github",
        "colab_type": "text"
      },
      "source": [
        "<a href=\"https://colab.research.google.com/github/Blacksmith1111/Optics/blob/main/HomeTask1.ipynb\" target=\"_parent\"><img src=\"https://colab.research.google.com/assets/colab-badge.svg\" alt=\"Open In Colab\"/></a>"
      ]
    },
    {
      "cell_type": "code",
      "execution_count": 49,
      "metadata": {
        "id": "ywbosFMxV__Q"
      },
      "outputs": [],
      "source": [
        "import numpy as np\n",
        "import matplotlib.pyplot as plt\n",
        "import scipy\n",
        "\n",
        "class MyModulator:\n",
        "  def __init__(self, bits_number, mod_type = \"QPSK\", snr = 10):\n",
        "    self.mod_type = mod_type\n",
        "    #self.bits_stream = np.random.binomial(n = 1, p = 0.5, size = bits_number)\n",
        "    self.bits_stream = [1,1,1,0,1,0,1,0,0,0,0,0]\n",
        "    self.snr = snr\n",
        "\n",
        "  def bits_to_symbols(self):\n",
        "    self.symbols = []\n",
        "    if self.mod_type == \"16QAM\":\n",
        "      for i in range(0, len(self.bits_stream), 4):\n",
        "        if i + 4 <= len(self.bits_stream):\n",
        "            self.symbols.append(self.bits_stream[i:i+4])\n",
        "    elif self.mod_type == \"QPSK\":\n",
        "      for i in range(0, len(self.bits_stream), 2):\n",
        "        if i + 2 <= len(self.bits_stream):\n",
        "          self.symbols.append(self.bits_stream[i:i+2])\n",
        "    self.symbols = np.array(self.symbols)\n",
        "    return self.symbols\n",
        "\n",
        "  def mapper(self):\n",
        "    self.I = np.zeros(len(self.symbols))\n",
        "    self.Q = np.zeros(len(self.symbols))\n",
        "    self.bin_vals = np.zeros(self.symbols.shape)\n",
        "    if self.mod_type == \"16QAM\":\n",
        "      Levels = np.array([1, 3])\n",
        "      for index, symbol in enumerate(self.symbols):\n",
        "        self.bin_vals[index] = symbol\n",
        "        self.I[index] = Levels[0] if (str(symbol[1]) + str(symbol[3]) == \"11\" or  str(symbol[1]) + str(symbol[3]) == \"10\") else Levels[1]\n",
        "        self.I[index] *= -1 if str(symbol[0]) + str(symbol[2]) == \"01\" or str(symbol[0]) + str(symbol[2]) == \"00\" else 1\n",
        "        self.Q[index] = Levels[0] if str(symbol[1]) + str(symbol[3]) == \"11\" or str(symbol[1]) + str(symbol[3]) == \"01\" else Levels[1]\n",
        "        self.Q[index] *= -1 if str(symbol[0]) + str(symbol[2]) == \"00\" or str(symbol[0]) + str(symbol[2]) == \"10\" else 1\n",
        "    elif self.mod_type == \"QPSK\":\n",
        "      Levels = np.array([-1, 1])\n",
        "      for index, symbol in enumerate(self.symbols):\n",
        "        self.bin_vals[index] = symbol\n",
        "        self.I[index] = Levels[0] if symbol[0] == 0 else Levels[1]\n",
        "        self.Q[index] = Levels[0] if symbol[1] == 0 else Levels[1]\n",
        "\n",
        "    self.mapped = self.I + 1j*self.Q\n",
        "    return self.mapped\n",
        "\n",
        "  def plot_constellation(self):\n",
        "    plt.figure(figsize=(8, 8))\n",
        "    plt.scatter(np.real(self.mapped), np.imag(self.mapped), color='red')\n",
        "    for (x, y, txt) in zip(np.real(self.mapped), np.imag(self.mapped), self.bin_vals):\n",
        "      plt.text(x, y, str(txt), fontsize=13)\n",
        "\n",
        "    if self.mod_type == \"16QAM\":\n",
        "      plt.title('16QAM Constellation')\n",
        "      plt.xlim(-4, 4)\n",
        "      plt.ylim(-4, 4)\n",
        "    elif self.mod_type == \"QPSK\":\n",
        "      plt.title('QPSK Constellation')\n",
        "      plt.xlim(-4, 4)\n",
        "      plt.ylim(-4, 4)\n",
        "\n",
        "    plt.xlabel('I')\n",
        "    plt.ylabel('Q')\n",
        "    plt.grid(True)\n",
        "    plt.axhline(0, color='black', lw=0.5)\n",
        "    plt.axvline(0, color='black', lw=0.5)\n",
        "    plt.show()\n",
        "\n",
        "\n",
        "\n"
      ]
    },
    {
      "cell_type": "code",
      "source": [
        "class MyDemodulator:\n",
        "  def __init__(self, mapped_symbols, mod_type = \"QPSK\"):\n",
        "    self.mod_type = mod_type\n",
        "    self.mapped = mapped_symbols\n",
        "    if self.mod_type == \"16QAM\":\n",
        "      self.symbol = np.zeros(4)\n",
        "    elif self.mod_type == \"QPSK\":\n",
        "      self.symbol = np.zeros(2)\n",
        "\n",
        "  def demodulate(self):\n",
        "    out_symbol = []\n",
        "    self.out_bits = []\n",
        "    ref_arr = []\n",
        "    if self.mod_type == \"16QAM\":\n",
        "      dict_16 = {-3 + 3j: \"1000\", -3 + 1j: \"0011\", -3 - 3j: \"0000\", -3 - 1j: \"0001\",\n",
        "                 -1 + 3j: \"0110\", -1 + 1j: \"0111\", -1 - 3j: \"0100\", -1 - 1j: \"0101\",\n",
        "                  3 + 3j: \"1010\",  3 + 1j: \"1011\",  3 - 3j: \"1000\",  3 - 1j: \"1001\",\n",
        "                  1 + 3j: \"1110\",  1 + 1j: \"1111\",  1 - 3j: \"1100\",  1 - 1j: \"1101\"}\n",
        "      levels = np.array([-3, -1, 1, 3])\n",
        "\n",
        "      for i in range(len(levels)):\n",
        "        for k in range(len(levels)):\n",
        "          ref_arr.append(levels[i] + 1j * levels[k])\n",
        "      ref_arr = np.array(ref_arr)\n",
        "      norms = np.zeros(len(ref_arr))\n",
        "      for index in range(len(self.mapped)):\n",
        "        for sec_ind in range(len(ref_arr)):\n",
        "          norms[sec_ind] = np.linalg.norm(ref_arr[sec_ind] - self.mapped[index])\n",
        "        out_symbol.append(ref_arr[np.argmin(norms)])\n",
        "      out_symbol = np.array(out_symbol)\n",
        "      for index in range(len(self.mapped)):\n",
        "        self.out_bits.append(dict_16[out_symbol[index]])\n",
        "      self.out_bits = np.array([int(digit) for string in self.out_bits for digit in string])\n",
        "\n",
        "    elif self.mod_type == \"QPSK\":\n",
        "      dict_qpsk = {1 + 1j: \"11\", -1 +1j: \"01\", -1 -1j: \"00\", 1 - 1j: \"10\"}\n",
        "      levels = np.array([-1, 1])\n",
        "      for i in range(len(levels)):\n",
        "        for k in range(len(levels)):\n",
        "          ref_arr.append(levels[i] + 1j * levels[k])\n",
        "      ref_arr = np.array(ref_arr)\n",
        "      norms = np.zeros(len(ref_arr))\n",
        "      for index in range(len(self.mapped)):\n",
        "        for sec_ind in range(len(ref_arr)):\n",
        "          norms[sec_ind] = np.linalg.norm(ref_arr[sec_ind] - self.mapped[index])\n",
        "        out_symbol.append(ref_arr[np.argmin(norms)])\n",
        "      out_symbol = np.array(out_symbol)\n",
        "      for index in range(len(self.mapped)):\n",
        "        self.out_bits.append(dict_qpsk[out_symbol[index]])\n",
        "      self.out_bits = np.array([int(digit) for string in self.out_bits for digit in string])\n",
        "\n",
        "    return self.out_bits"
      ],
      "metadata": {
        "id": "PdHdL25aC4mo"
      },
      "execution_count": 50,
      "outputs": []
    },
    {
      "cell_type": "code",
      "source": [
        "def ber_count(start_bits, proc_bits):\n",
        "    ber = np.sum(proc_bits != start_bits) / len(start_bits)\n",
        "    return ber\n",
        "\n",
        "def Noise_generator(mapped, snr):\n",
        "    mapped_number = len(mapped)\n",
        "    root_points_power = np.linalg.norm(mapped) / np.sqrt(mapped_number)\n",
        "    noise_power = root_points_power / (2 * (10 ** (snr / 10)))\n",
        "    Re = np.random.normal(scale = np.sqrt(noise_power), size = mapped_number)\n",
        "    Im = np.random.normal(scale = np.sqrt(noise_power), size = mapped_number)\n",
        "    return Re + 1j * Im"
      ],
      "metadata": {
        "id": "aP-_aitpyF7H"
      },
      "execution_count": 59,
      "outputs": []
    },
    {
      "cell_type": "code",
      "source": [
        "num_bits = 12\n",
        "###test 16QAM\n",
        "obj = MyModulator(num_bits, \"16QAM\")\n",
        "print(obj.bits_to_symbols(), obj.bits_to_symbols().shape, \"\\n\")\n",
        "print(obj.mapper(), \"\\n\")\n",
        "#obj.plot_constellation()\n",
        "###test demodulator\n",
        "dem = MyDemodulator(obj.mapped, \"16QAM\")\n",
        "print(dem.demodulate(), type(dem.demodulate()[0]), \"\\n\")\n",
        "###test QPSK\n",
        "\n",
        "#newobj.plot_constellation()\n",
        "### with noise\n",
        "no = MyModulator(num_bits, \"16QAM\", -10)\n",
        "no.bits_to_symbols()\n",
        "print(no.mapper() + no.Noise_generator(), \"\\n\")\n",
        "yes = MyDemodulator(no.mapper() + Noise_generator(no.mapped, no.snr), \"16QAM\")\n",
        "print(yes.demodulate(), ber_count(no.bits_stream, yes.out_bits))"
      ],
      "metadata": {
        "colab": {
          "base_uri": "https://localhost:8080/"
        },
        "id": "Mbdx6Wt7Ctel",
        "outputId": "8c99d0a8-2356-4aad-a8ad-d15f2f174c59"
      },
      "execution_count": 60,
      "outputs": [
        {
          "output_type": "stream",
          "name": "stdout",
          "text": [
            "[[1 1 1 0]\n",
            " [1 0 1 0]\n",
            " [0 0 0 0]] (3, 4) \n",
            "\n",
            "[ 1.+3.j  3.+3.j -3.-3.j] \n",
            "\n",
            "[1 1 1 0 1 0 1 0 0 0 0 0] <class 'numpy.int64'> \n",
            "\n",
            "3.915780041490244\n",
            "[-2.75967961+5.24967971j -3.21464309-5.92795189j  2.88558285-7.20428493j] \n",
            "\n",
            "[1 0 0 0 1 0 1 0 1 1 0 0] 0.3333333333333333\n"
          ]
        }
      ]
    }
  ]
}